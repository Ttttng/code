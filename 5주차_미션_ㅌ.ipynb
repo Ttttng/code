{
  "nbformat": 4,
  "nbformat_minor": 0,
  "metadata": {
    "colab": {
      "name": "5주차 미션_ㅌ.ipynb",
      "provenance": [],
      "collapsed_sections": [],
      "include_colab_link": true
    },
    "kernelspec": {
      "name": "python3",
      "display_name": "Python 3"
    },
    "language_info": {
      "name": "python"
    }
  },
  "cells": [
    {
      "cell_type": "markdown",
      "metadata": {
        "id": "view-in-github",
        "colab_type": "text"
      },
      "source": [
        "<a href=\"https://colab.research.google.com/github/Ttttng/code/blob/main/5%EC%A3%BC%EC%B0%A8_%EB%AF%B8%EC%85%98_%E3%85%8C.ipynb\" target=\"_parent\"><img src=\"https://colab.research.google.com/assets/colab-badge.svg\" alt=\"Open In Colab\"/></a>"
      ]
    },
    {
      "cell_type": "code",
      "execution_count": 6,
      "metadata": {
        "colab": {
          "base_uri": "https://localhost:8080/"
        },
        "id": "FmpSHFWfywQ9",
        "outputId": "3855d6a7-d7b2-4f68-8a14-ea023297dd08"
      },
      "outputs": [
        {
          "output_type": "stream",
          "name": "stdout",
          "text": [
            "송혜교, 술래입니다. 밖으로 나가주세요.\n",
            "그리고\n",
            "박소담, 대장입니다. 다양한 동작을 준비해 주세요.\n",
            "술래는 교실로 들어와서 준비합니다.\n",
            "대장 게임을 시작합니다.\n",
            "술래는 10초 안에 새로운 동작으로 바꾸세요.\n",
            "10\n",
            "9\n",
            "8\n",
            "7\n",
            "6\n",
            "5\n",
            "4\n",
            "3\n",
            "2\n",
            "1\n",
            "대장은 10초 안에 술래를 찾으세요.\n",
            "10\n",
            "9\n",
            "8\n",
            "7\n",
            "6\n",
            "5\n",
            "4\n",
            "3\n",
            "2\n",
            "1\n",
            "대장의 이름을 입력하세요 : 박소담\n",
            "축하합니다! 대장을 잡았습니다.\n"
          ]
        }
      ],
      "source": [
        "# [ 5주차 미션 ]\n",
        "# 프로젝트 주제 : 대장 게임 프로그램 만들기\n",
        "# 1) 술래1인 뽑기\n",
        "# 2) 술래 1인을 제외한 대장 1인 뽑기\n",
        "# 3) 이전 술래와 대장을 제외하고 다시 뽑기\n",
        "\n",
        "\n",
        "# 대장게임의 술래 1명, 대장 1명 뽑기\n",
        "\n",
        "import time\n",
        "import random\n",
        "data = open('우리반명단.txt')\n",
        "names = []\n",
        "\n",
        "for row in data :\n",
        "  names.append(row.strip())\n",
        "\n",
        "tagger = random.choice(names)\n",
        "names.remove(tagger)\n",
        "print(tagger + ', 술래입니다. 밖으로 나가주세요.')\n",
        "time.sleep(1)\n",
        "print('그리고')\n",
        "time.sleep(3)\n",
        "\n",
        "boss = random.choice(names)\n",
        "names.remove(boss)\n",
        "print(boss + ', 대장입니다. 다양한 동작을 준비해 주세요.')\n",
        "\n",
        "time.sleep(1)\n",
        "print('술래는 교실로 들어와서 준비합니다.')\n",
        "\n",
        "time.sleep(1)  # 실제 20초\n",
        "print('대장 게임을 시작합니다.')\n",
        "\n",
        "time.sleep(1)  #실제 60초\n",
        "\n",
        "print('술래는 10초 안에 새로운 동작으로 바꾸세요.')\n",
        "\n",
        "for i in range(10, 0, -1):\n",
        "  time.sleep(1)\n",
        "  print(i)\n",
        "\n",
        "time.sleep(1)  #실제 게임시 10초로 변경\n",
        "print('대장은 10초 안에 술래를 찾으세요.')\n",
        "\n",
        "for i in range(10, 0, -1):\n",
        "  time.sleep(1)\n",
        "  print(i)\n",
        "\n",
        "time.sleep(1)\n",
        "input_boss = input('대장의 이름을 입력하세요 : ')\n",
        "\n",
        "if boss == input_boss :\n",
        "  print ('축하합니다! 대장을 잡았습니다.')\n",
        "\n",
        "else :\n",
        "  print ('틀렸습니다. 대장의 승리입니다.')\n"
      ]
    }
  ]
}